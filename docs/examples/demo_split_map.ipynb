{
 "cells": [
  {
   "cell_type": "code",
   "execution_count": null,
   "id": "87b08373",
   "metadata": {},
   "outputs": [],
   "source": [
    "import ee\n",
    "import folium\n",
    "import geemap.foliumap as geemap\n",
    "\n",
    "# Center the map over Knoxville, TN\n",
    "m = geemap.Map(center=[35.9606, -83.9207], zoom=10)\n",
    "\n",
    "# m = geemap.Map(height=500)\n",
    "# m.split_map(left_layer='TERRAIN', right_layer='OpenTopoMap')\n",
    "# m\n",
    "\n"
   ]
  }
 ],
 "metadata": {
  "kernelspec": {
   "display_name": "geo",
   "language": "python",
   "name": "python3"
  },
  "language_info": {
   "codemirror_mode": {
    "name": "ipython",
    "version": 3
   },
   "file_extension": ".py",
   "mimetype": "text/x-python",
   "name": "python",
   "nbconvert_exporter": "python",
   "pygments_lexer": "ipython3",
   "version": "3.12.9"
  }
 },
 "nbformat": 4,
 "nbformat_minor": 5
}
